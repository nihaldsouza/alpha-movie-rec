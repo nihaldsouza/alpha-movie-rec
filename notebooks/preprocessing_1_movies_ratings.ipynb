{
 "cells": [
  {
   "cell_type": "markdown",
   "metadata": {},
   "source": [
    "### Preprocessing Movies and Ratings Dataset\n",
    "\n",
    "Preprocessing includes the following steps:\n",
    "1. Filter the movies dataset on the title --> if title contains years between (2000) and (2020)\n",
    "2. Filter the ratings dataset on the unique lists of movie IDs from step 1 --> Only select movies that are in new movies dataset \n",
    "3. Download new_movies and new_ratings dataset\n"
   ]
  },
  {
   "cell_type": "code",
   "execution_count": null,
   "metadata": {
    "_cell_guid": "79c7e3d0-c299-4dcb-8224-4455121ee9b0",
    "_uuid": "d629ff2d2480ee46fbb7e2d37f6b5fab8052498a"
   },
   "outputs": [],
   "source": [
    "import pandas as pd"
   ]
  },
  {
   "cell_type": "markdown",
   "metadata": {},
   "source": [
    "#### Movielens Dataset\n",
    "1. Download Link --> http://files.grouplens.org/datasets/movielens/ml-latest.zip\n",
    "2. Extract to /input folder"
   ]
  },
  {
   "cell_type": "code",
   "execution_count": null,
   "metadata": {},
   "outputs": [],
   "source": [
    "ratings = pd.read_csv(\"../input/ratings.csv\")\n",
    "meta = pd.read_csv(\"../input/movies.csv\")"
   ]
  },
  {
   "cell_type": "code",
   "execution_count": null,
   "metadata": {},
   "outputs": [],
   "source": [
    "ratings.head(2)"
   ]
  },
  {
   "cell_type": "code",
   "execution_count": null,
   "metadata": {},
   "outputs": [],
   "source": [
    "meta.head(2)"
   ]
  },
  {
   "cell_type": "code",
   "execution_count": 1,
   "metadata": {},
   "outputs": [],
   "source": [
    "# Regex to select movies between (2000) and (2020) in the 'title'\n",
    "year = '\\(2000\\)|\\(2001\\)|\\(2002\\)|\\(2003\\)|\\(2004\\)|\\(2005\\)|\\(2006\\)|\\(2007\\)|\\(2008\\)|\\(2009\\)|\\(2010\\)|\\(2011\\)|\\(2012\\)|\\(2013\\)|\\(2014\\)|\\(2015\\)|\\(2016\\)|\\(2017\\)|\\(2018\\)|\\(2019\\)|\\(2020\\)'"
   ]
  },
  {
   "cell_type": "code",
   "execution_count": null,
   "metadata": {},
   "outputs": [],
   "source": [
    "meta.shape"
   ]
  },
  {
   "cell_type": "code",
   "execution_count": null,
   "metadata": {},
   "outputs": [],
   "source": [
    "meta_2000=meta[meta['title'].str.contains(year)]"
   ]
  },
  {
   "cell_type": "code",
   "execution_count": null,
   "metadata": {},
   "outputs": [],
   "source": [
    "meta_2000.shape"
   ]
  },
  {
   "cell_type": "code",
   "execution_count": null,
   "metadata": {},
   "outputs": [],
   "source": [
    "# Remove rows that have (no genre) under 'genres'\n",
    "meta_2000=meta_2000[~meta_2000['genres'].str.contains('no genre')]"
   ]
  },
  {
   "cell_type": "code",
   "execution_count": null,
   "metadata": {},
   "outputs": [],
   "source": [
    "meta_2000.shape"
   ]
  },
  {
   "cell_type": "code",
   "execution_count": null,
   "metadata": {},
   "outputs": [],
   "source": [
    "# Create a list of unique movie IDs\n",
    "id_list=meta_2000.movieId.unique().tolist()"
   ]
  },
  {
   "cell_type": "code",
   "execution_count": null,
   "metadata": {},
   "outputs": [],
   "source": [
    "id_list "
   ]
  },
  {
   "cell_type": "code",
   "execution_count": null,
   "metadata": {},
   "outputs": [],
   "source": [
    "# Only keep ratings of movies that are in id_list.\n",
    "# new_ratings contains ratings of only the newly filtered movie dataset i.e. - 2000<=year<=2020\n",
    "new_ratings=ratings[ratings['movieId'].isin(id_list)]"
   ]
  },
  {
   "cell_type": "code",
   "execution_count": null,
   "metadata": {},
   "outputs": [],
   "source": [
    "ratings.shape"
   ]
  },
  {
   "cell_type": "code",
   "execution_count": null,
   "metadata": {},
   "outputs": [],
   "source": [
    "new_ratings.head(5)"
   ]
  },
  {
   "cell_type": "code",
   "execution_count": null,
   "metadata": {},
   "outputs": [],
   "source": [
    "new_ratings.shape"
   ]
  },
  {
   "cell_type": "markdown",
   "metadata": {},
   "source": [
    "#### Replace Old Files\n",
    "1. Replace input/ratings.csv file with new_ratings.csv file.\n",
    "2. Replace input/movies.csv file with new_movies.csv file."
   ]
  },
  {
   "cell_type": "code",
   "execution_count": null,
   "metadata": {},
   "outputs": [],
   "source": [
    "new_ratings.to_csv('new_ratings.csv', index=False)\n",
    "meta_2000.to_csv('new_movies.csv', index=False)"
   ]
  }
 ],
 "metadata": {
  "kernelspec": {
   "display_name": "Python 2",
   "language": "python",
   "name": "python2"
  },
  "language_info": {
   "codemirror_mode": {
    "name": "ipython",
    "version": 2
   },
   "file_extension": ".py",
   "mimetype": "text/x-python",
   "name": "python",
   "nbconvert_exporter": "python",
   "pygments_lexer": "ipython2",
   "version": "2.7.16"
  }
 },
 "nbformat": 4,
 "nbformat_minor": 4
}
